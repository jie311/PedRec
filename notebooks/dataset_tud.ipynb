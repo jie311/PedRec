{
 "cells": [
  {
   "cell_type": "code",
   "execution_count": 1,
   "metadata": {},
   "outputs": [],
   "source": [
    "import sys\n",
    "\n",
    "sys.path.append(\"../\")\n",
    "import os\n",
    "import math\n",
    "import numpy as np\n",
    "import cv2\n",
    "import pandas as pd\n",
    "import tikzplotlib\n",
    "from random import randint\n",
    "import matplotlib.pyplot as plt\n",
    "from pedrec.datasets.tud_dataset import TudDataset\n",
    "from pedrec.configs.pedrec_net_config import PedRecNet50Config\n",
    "from pedrec.models.constants.dataset_constants import DatasetType\n",
    "from pedrec.models.constants.sample_method import SAMPLE_METHOD\n",
    "from pedrec.configs.dataset_configs import get_tud_dataset_cfg_default\n",
    "%matplotlib widget\n"
   ]
  },
  {
   "cell_type": "code",
   "execution_count": 2,
   "metadata": {},
   "outputs": [],
   "source": [
    "cfg = PedRecNet50Config()\n",
    "dataset_cfg = get_tud_dataset_cfg_default()\n",
    "dataset_cfg.subsample = 2\n",
    "dataset_cfg.subsampling_strategy = SAMPLE_METHOD\n",
    "\n",
    "# MS Coco\n",
    "dataset_name = \"TUD\"\n",
    "dataset = TudDataset(\"data/datasets/cvpr10_multiview_pedestrians/\", DatasetType.TRAIN, dataset_cfg,\n",
    "                      cfg.model.input_size, None)\n",
    "train_data = []\n",
    "for i in range(1, 9):\n",
    "  train_data += dataset.get_xml_data(os.path.join(dataset.dataset_path, f\"viewpoints_train{i}.al\"))\n",
    "\n",
    "val_data = dataset.get_xml_data(os.path.join(dataset.dataset_path, f\"viewpoints_validate.al\"))\n"
   ]
  },
  {
   "cell_type": "code",
   "execution_count": 3,
   "metadata": {},
   "outputs": [],
   "source": [
    "def get_df(annotations):\n",
    "  bb_sizes = []\n",
    "  orientations = []\n",
    "  for annotation in annotations:\n",
    "    bb = annotation[\"bb\"]\n",
    "    orientation = annotation[\"orientations\"]\n",
    "    bb_sizes.append(math.sqrt(bb[2]**2 + bb[3]**2))\n",
    "    orientations.append(math.degrees(orientation[0][1] * 2 * math.pi))\n",
    "\n",
    "  data = np.array([bb_sizes, orientations], dtype=np.float32).transpose()\n",
    "  print(data.shape)\n",
    "  return pd.DataFrame(data=data, columns=[\"bb_size\", \"orientation\"])\n"
   ]
  },
  {
   "cell_type": "code",
   "execution_count": 37,
   "metadata": {},
   "outputs": [],
   "source": [
    "def write_plot(df, name):\n",
    "  fig = plt.figure()\n",
    "  body_phi_deg = df['orientation']\n",
    "  body_phi_deg.hist(bins=50)\n",
    "  xmin, xmax, ymin, ymax = plt.axis()\n",
    "  tikzplotlib.save(f\"/home/dennis/Downloads/tud_{name}_body_orientation_phi.tex\", extra_axis_parameters={\n",
    "    'width=0.5\\\\textwidth',\n",
    "    'title={Distribution of body $\\\\theta$ orientations}',\n",
    "    'xlabel={degrees ($°$)}',\n",
    "    'ylabel={Number of samples}',\n",
    "    'enlarge x limits=0.001',\n",
    "    'enlarge y limits=0.001',\n",
    "    'xmin=0',\n",
    "    'xmax=360',\n",
    "  })"
   ]
  },
  {
   "cell_type": "code",
   "execution_count": 4,
   "metadata": {},
   "outputs": [
    {
     "name": "stdout",
     "output_type": "stream",
     "text": [
      "(8322, 2)\n"
     ]
    },
    {
     "data": {
      "text/html": [
       "<div>\n",
       "<style scoped>\n",
       "    .dataframe tbody tr th:only-of-type {\n",
       "        vertical-align: middle;\n",
       "    }\n",
       "\n",
       "    .dataframe tbody tr th {\n",
       "        vertical-align: top;\n",
       "    }\n",
       "\n",
       "    .dataframe thead th {\n",
       "        text-align: right;\n",
       "    }\n",
       "</style>\n",
       "<table border=\"1\" class=\"dataframe\">\n",
       "  <thead>\n",
       "    <tr style=\"text-align: right;\">\n",
       "      <th></th>\n",
       "      <th>bb_size</th>\n",
       "      <th>orientation</th>\n",
       "    </tr>\n",
       "  </thead>\n",
       "  <tbody>\n",
       "    <tr>\n",
       "      <th>count</th>\n",
       "      <td>8322.000000</td>\n",
       "      <td>8322.000000</td>\n",
       "    </tr>\n",
       "    <tr>\n",
       "      <th>mean</th>\n",
       "      <td>192.717316</td>\n",
       "      <td>176.840561</td>\n",
       "    </tr>\n",
       "    <tr>\n",
       "      <th>std</th>\n",
       "      <td>44.902618</td>\n",
       "      <td>103.833885</td>\n",
       "    </tr>\n",
       "    <tr>\n",
       "      <th>min</th>\n",
       "      <td>45.541191</td>\n",
       "      <td>0.002124</td>\n",
       "    </tr>\n",
       "    <tr>\n",
       "      <th>25%</th>\n",
       "      <td>188.883560</td>\n",
       "      <td>87.440254</td>\n",
       "    </tr>\n",
       "    <tr>\n",
       "      <th>50%</th>\n",
       "      <td>209.095673</td>\n",
       "      <td>168.580917</td>\n",
       "    </tr>\n",
       "    <tr>\n",
       "      <th>75%</th>\n",
       "      <td>212.906082</td>\n",
       "      <td>267.102020</td>\n",
       "    </tr>\n",
       "    <tr>\n",
       "      <th>max</th>\n",
       "      <td>462.312653</td>\n",
       "      <td>359.998810</td>\n",
       "    </tr>\n",
       "  </tbody>\n",
       "</table>\n",
       "</div>"
      ],
      "text/plain": [
       "           bb_size  orientation\n",
       "count  8322.000000  8322.000000\n",
       "mean    192.717316   176.840561\n",
       "std      44.902618   103.833885\n",
       "min      45.541191     0.002124\n",
       "25%     188.883560    87.440254\n",
       "50%     209.095673   168.580917\n",
       "75%     212.906082   267.102020\n",
       "max     462.312653   359.998810"
      ]
     },
     "execution_count": 4,
     "metadata": {},
     "output_type": "execute_result"
    }
   ],
   "source": [
    "df_train = get_df(train_data)\n",
    "df_train.describe()"
   ]
  },
  {
   "cell_type": "code",
   "execution_count": 5,
   "metadata": {},
   "outputs": [
    {
     "name": "stdout",
     "output_type": "stream",
     "text": [
      "0,234\n",
      "10,125\n",
      "20,294\n",
      "30,388\n",
      "40,265\n",
      "50,136\n",
      "60,99\n",
      "70,188\n",
      "80,452\n",
      "90,326\n",
      "100,233\n",
      "110,184\n",
      "120,118\n",
      "130,84\n",
      "140,270\n",
      "150,422\n",
      "160,379\n",
      "170,223\n",
      "180,217\n",
      "190,53\n",
      "200,169\n",
      "210,367\n",
      "220,415\n",
      "230,214\n",
      "240,102\n",
      "250,132\n",
      "260,257\n",
      "270,324\n",
      "280,134\n",
      "290,95\n",
      "300,118\n",
      "310,250\n",
      "320,342\n",
      "330,317\n",
      "340,204\n",
      "350,192\n",
      "360,0\n",
      "452\n"
     ]
    }
   ],
   "source": [
    "body_phi_deg = df_train['orientation']\n",
    "max_val = 0\n",
    "for i in range (0, 370, 10):\n",
    "  elements = body_phi_deg[body_phi_deg.between(i, i+10, \"both\")]\n",
    "  num_els = len(elements)\n",
    "  max_val = max_val if max_val > num_els else num_els\n",
    "  print(f\"{i},{num_els}\")\n",
    "print(max_val)"
   ]
  },
  {
   "cell_type": "code",
   "execution_count": 39,
   "metadata": {},
   "outputs": [
    {
     "data": {
      "application/vnd.jupyter.widget-view+json": {
       "model_id": "a7766ed5d3cc4664998a4a94e4908505",
       "version_major": 2,
       "version_minor": 0
      },
      "text/plain": [
       "Canvas(toolbar=Toolbar(toolitems=[('Home', 'Reset original view', 'home', 'home'), ('Back', 'Back to previous …"
      ]
     },
     "metadata": {},
     "output_type": "display_data"
    }
   ],
   "source": [
    "write_plot(df_train, \"train\")"
   ]
  },
  {
   "cell_type": "code",
   "execution_count": 40,
   "metadata": {},
   "outputs": [
    {
     "name": "stdout",
     "output_type": "stream",
     "text": [
      "(290, 2)\n"
     ]
    },
    {
     "data": {
      "text/html": [
       "<div>\n",
       "<style scoped>\n",
       "    .dataframe tbody tr th:only-of-type {\n",
       "        vertical-align: middle;\n",
       "    }\n",
       "\n",
       "    .dataframe tbody tr th {\n",
       "        vertical-align: top;\n",
       "    }\n",
       "\n",
       "    .dataframe thead th {\n",
       "        text-align: right;\n",
       "    }\n",
       "</style>\n",
       "<table border=\"1\" class=\"dataframe\">\n",
       "  <thead>\n",
       "    <tr style=\"text-align: right;\">\n",
       "      <th></th>\n",
       "      <th>bb_size</th>\n",
       "      <th>orientation</th>\n",
       "    </tr>\n",
       "  </thead>\n",
       "  <tbody>\n",
       "    <tr>\n",
       "      <th>count</th>\n",
       "      <td>290.000000</td>\n",
       "      <td>290.000000</td>\n",
       "    </tr>\n",
       "    <tr>\n",
       "      <th>mean</th>\n",
       "      <td>209.980453</td>\n",
       "      <td>188.337692</td>\n",
       "    </tr>\n",
       "    <tr>\n",
       "      <th>std</th>\n",
       "      <td>48.134571</td>\n",
       "      <td>99.073692</td>\n",
       "    </tr>\n",
       "    <tr>\n",
       "      <th>min</th>\n",
       "      <td>110.308655</td>\n",
       "      <td>0.048549</td>\n",
       "    </tr>\n",
       "    <tr>\n",
       "      <th>25%</th>\n",
       "      <td>174.573471</td>\n",
       "      <td>105.933453</td>\n",
       "    </tr>\n",
       "    <tr>\n",
       "      <th>50%</th>\n",
       "      <td>205.017067</td>\n",
       "      <td>190.254204</td>\n",
       "    </tr>\n",
       "    <tr>\n",
       "      <th>75%</th>\n",
       "      <td>239.940842</td>\n",
       "      <td>267.880341</td>\n",
       "    </tr>\n",
       "    <tr>\n",
       "      <th>max</th>\n",
       "      <td>349.847107</td>\n",
       "      <td>359.362915</td>\n",
       "    </tr>\n",
       "  </tbody>\n",
       "</table>\n",
       "</div>"
      ],
      "text/plain": [
       "          bb_size  orientation\n",
       "count  290.000000   290.000000\n",
       "mean   209.980453   188.337692\n",
       "std     48.134571    99.073692\n",
       "min    110.308655     0.048549\n",
       "25%    174.573471   105.933453\n",
       "50%    205.017067   190.254204\n",
       "75%    239.940842   267.880341\n",
       "max    349.847107   359.362915"
      ]
     },
     "execution_count": 40,
     "metadata": {},
     "output_type": "execute_result"
    }
   ],
   "source": [
    "df_val = get_df(val_data)\n",
    "df_val.describe()"
   ]
  },
  {
   "cell_type": "code",
   "execution_count": 41,
   "metadata": {},
   "outputs": [
    {
     "data": {
      "application/vnd.jupyter.widget-view+json": {
       "model_id": "4f0c83e8fca44bbfa2c9fedd70452fc3",
       "version_major": 2,
       "version_minor": 0
      },
      "text/plain": [
       "Canvas(toolbar=Toolbar(toolitems=[('Home', 'Reset original view', 'home', 'home'), ('Back', 'Back to previous …"
      ]
     },
     "metadata": {},
     "output_type": "display_data"
    }
   ],
   "source": [
    "write_plot(df_val, \"val\")"
   ]
  }
 ],
 "metadata": {
  "interpreter": {
   "hash": "f92b2924b84ff19c1c3dc485f7644d4486f64738191026bf8e6de303969141b5"
  },
  "kernelspec": {
   "display_name": "Python 2.7.18 64-bit",
   "name": "python3"
  },
  "language_info": {
   "codemirror_mode": {
    "name": "ipython",
    "version": 3
   },
   "file_extension": ".py",
   "mimetype": "text/x-python",
   "name": "python",
   "nbconvert_exporter": "python",
   "pygments_lexer": "ipython3",
   "version": "3.9.7"
  }
 },
 "nbformat": 4,
 "nbformat_minor": 4
}
