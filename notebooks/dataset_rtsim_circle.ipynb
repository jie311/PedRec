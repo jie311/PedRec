{
 "cells": [
  {
   "cell_type": "code",
   "execution_count": 1,
   "source": [
    "import sys\n",
    "\n",
    "sys.path.append(\"../\")\n",
    "import os\n",
    "import math\n",
    "import numpy as np\n",
    "import cv2\n",
    "import pandas as pd\n",
    "import tikzplotlib\n",
    "from pedrec.configs.dataset_configs import get_sim_dataset_cfg_default\n",
    "from pedrec.datasets.pedrec_dataset import PedRecDataset\n",
    "from pedrec.configs.pedrec_net_config import PedRecNet50Config\n",
    "from pedrec.models.constants.dataset_constants import DatasetType\n",
    "from pedrec.visualizers.skeleton_visualizer import draw_skeleton\n",
    "from pedrec.visualizers.skeleton_3d_visualizer import add_skeleton_3d_to_axes\n",
    "from pedrec.visualizers.visualization_helper_3d import draw_grid_3d, draw_origin_3d\n",
    "from random import randint\n",
    "import matplotlib.pyplot as plt\n",
    "%matplotlib widget\n"
   ],
   "outputs": [],
   "metadata": {}
  },
  {
   "cell_type": "code",
   "execution_count": 2,
   "source": [
    "cfg = PedRecNet50Config()\n",
    "\n",
    "# ROM Train\n",
    "dataset_cfg = get_sim_dataset_cfg_default()\n",
    "dataset_root = \"data/datasets/RT3DValidate/\"\n",
    "dataset_df_filename = \"rt_validate_3d.pkl\"\n",
    "\n",
    "dataset = PedRecDataset(dataset_root, dataset_df_filename, DatasetType.VALIDATE, dataset_cfg, cfg.model.input_size, None)\n",
    "dataset_length = len(dataset)\n",
    "print(dataset_length)"
   ],
   "outputs": [
    {
     "output_type": "stream",
     "name": "stdout",
     "text": [
      "39484\n"
     ]
    }
   ],
   "metadata": {
    "pycharm": {
     "name": "#%%\n"
    }
   }
  },
  {
   "cell_type": "code",
   "execution_count": 3,
   "source": [
    "fig, ax = plt.subplots(3,3, figsize=(10,10))\n",
    "fig_3d = plt.figure(figsize=(10,10))\n",
    "\n",
    "count = 0\n",
    "for i in range(0, 3):\n",
    "    for j in range(0, 3):\n",
    "        entry = dataset[randint(0, dataset_length)]\n",
    "        # entry = dataset[count + 606]\n",
    "        model_input, labels = entry\n",
    "        skeleton = labels[\"skeleton\"]\n",
    "        skeleton_3d = labels[\"skeleton_3d\"]\n",
    "        scale_factor = 3\n",
    "        skeleton_3d[:, :3] *= scale_factor\n",
    "        skeleton_3d[:, :3] -= (scale_factor / 2)\n",
    "        center = labels[\"center\"]\n",
    "        scale = labels[\"scale\"]\n",
    "        rotation = labels[\"rotation\"]\n",
    "        is_real_img = labels[\"is_real_img\"]\n",
    "        img_path = labels[\"img_path\"]\n",
    "        skeleton[:, 0] *= model_input.shape[1]\n",
    "        skeleton[:, 1] *= model_input.shape[0]\n",
    "        visible_joints = np.sum(skeleton[:, 2])\n",
    "        body_orientation = labels[\"orientation\"][0][1]\n",
    "        body_orientation *= 2*math.pi\n",
    "        body_orientation = math.degrees(body_orientation)\n",
    "        head_orientation = labels[\"orientation\"][1][1]\n",
    "        head_orientation *= 2*math.pi\n",
    "        head_orientation = math.degrees(head_orientation)\n",
    "        draw_skeleton(model_input, skeleton)\n",
    "        img = cv2.cvtColor(model_input, cv2.COLOR_BGR2RGB)\n",
    "        ax[i, j].imshow(img)\n",
    "        ax[i, j].set_title(f\"{count}: {visible_joints} | Bθ​: {body_orientation:.1f}° | Hθ​: {head_orientation:.1f}°\")\n",
    "\n",
    "        ax_3d = fig_3d.add_subplot(3, 3, count+1, projection='3d')\n",
    "        draw_grid_3d(ax_3d, lim=1)\n",
    "        draw_origin_3d(ax_3d)\n",
    "        add_skeleton_3d_to_axes(ax_3d, skeleton_3d, size=4)\n",
    "        ax_3d.set_title(f\"{count}: {visible_joints} | Bθ​: {body_orientation:.1f}° | Hθ​: {head_orientation:.1f}°\")\n",
    "\n",
    "        # print(f\"{count}: Model input shape: {model_input.shape}, Min value: {model_input.min()}, max value: {model_input.max()}\")\n",
    "        # print(f\"{count}: center: {center}, scale: {scale}, rotation: {rotation}\")\n",
    "        # print(f\"{count}: is_real_img: {is_real_img}\")\n",
    "        # print(f\"{count}: visible joints: {visible_joints}\")\n",
    "        # print(f\"{count}: path: {img_path}\")\n",
    "        # print(\"------------\")\n",
    "        count += 1\n",
    "    plt.show()"
   ],
   "outputs": [
    {
     "output_type": "display_data",
     "data": {
      "text/plain": [
       "Canvas(toolbar=Toolbar(toolitems=[('Home', 'Reset original view', 'home', 'home'), ('Back', 'Back to previous …"
      ],
      "application/vnd.jupyter.widget-view+json": {
       "version_major": 2,
       "version_minor": 0,
       "model_id": "ac983d3e72eb4efcb291e107bb66cca3"
      }
     },
     "metadata": {}
    },
    {
     "output_type": "display_data",
     "data": {
      "text/plain": [
       "Canvas(toolbar=Toolbar(toolitems=[('Home', 'Reset original view', 'home', 'home'), ('Back', 'Back to previous …"
      ],
      "application/vnd.jupyter.widget-view+json": {
       "version_major": 2,
       "version_minor": 0,
       "model_id": "5558a75f50ef477a986896caff1e5960"
      }
     },
     "metadata": {}
    }
   ],
   "metadata": {
    "pycharm": {
     "name": "#%%\n"
    }
   }
  },
  {
   "cell_type": "code",
   "execution_count": null,
   "source": [
    "dataset_df_path = os.path.join(dataset_root, dataset_df_filename)\n",
    "df = pd.read_pickle(dataset_df_path)\n",
    "pd.options.display.max_columns = None\n",
    "pd.options.display.float_format= '{:.2f}'.format\n",
    "print(f\"Number of entrys: {df.shape[0]}\")"
   ],
   "outputs": [],
   "metadata": {
    "pycharm": {
     "name": "#%%\n"
    }
   }
  },
  {
   "cell_type": "code",
   "execution_count": null,
   "source": [
    "filter_skeleton2d = [col for col in df if col.startswith('skeleton2d')]\n",
    "filter_skeleton3d = [col for col in df if col.startswith('skeleton3d')]\n",
    "filter_bb = [col for col in df if col.startswith('bb')]\n",
    "filter_body_orientation = [col for col in df if col.startswith('body_orientation')]\n",
    "filter_head_orientation = [col for col in df if col.startswith('head_orientation')]\n",
    "filter_env = [col for col in df if col.startswith('env')]"
   ],
   "outputs": [],
   "metadata": {
    "pycharm": {
     "name": "#%%\n"
    }
   }
  },
  {
   "cell_type": "code",
   "execution_count": null,
   "source": [
    "# skeleton 2d calculated columns\n",
    "skeleton2d_xs = [col for col in df if col.startswith('skeleton2d') and col.endswith('_x')]\n",
    "skeleton2d_ys = [col for col in df if col.startswith('skeleton2d') and col.endswith('_y')]\n",
    "skeleton2d_visibles = [col for col in df if col.startswith('skeleton2d') and col.endswith('_visible')]\n",
    "df[\"skeleton2d_width\"] = df[skeleton2d_xs].max(axis=1) - df[skeleton2d_xs].min(axis=1)\n",
    "df[\"skeleton2d_height\"] = df[skeleton2d_ys].max(axis=1) - df[skeleton2d_ys].min(axis=1)\n",
    "df[\"skeleton2d_size\"] = np.sqrt(df[\"skeleton2d_width\"]**2 + df[\"skeleton2d_height\"]**2)\n",
    "df[\"skeleton2d_visible_joints\"] = df[skeleton2d_visibles].sum(axis=1)"
   ],
   "outputs": [],
   "metadata": {
    "pycharm": {
     "name": "#%%\n"
    }
   }
  },
  {
   "cell_type": "code",
   "execution_count": null,
   "source": [
    "# skeleton 3d calculated columns\n",
    "skeleton3d_xs = [col for col in df if col.startswith('skeleton3d') and col.endswith('_x')]\n",
    "skeleton3d_ys = [col for col in df if col.startswith('skeleton3d') and col.endswith('_y')]\n",
    "skeleton3d_zs = [col for col in df if col.startswith('skeleton3d') and col.endswith('_z')]\n",
    "df[\"skeleton3d_width\"] = df[skeleton3d_xs].max(axis=1) - df[skeleton3d_xs].min(axis=1)\n",
    "df[\"skeleton3d_height\"] = df[skeleton3d_ys].max(axis=1) - df[skeleton3d_ys].min(axis=1)\n",
    "df[\"skeleton3d_depth\"] = df[skeleton3d_zs].max(axis=1) - df[skeleton3d_zs].min(axis=1)\n",
    "df[\"skeleton3d_size\"] = np.sqrt(df[\"skeleton3d_width\"]**2 + df[\"skeleton3d_height\"]**2 + df[\"skeleton3d_depth\"]**2)"
   ],
   "outputs": [],
   "metadata": {
    "pycharm": {
     "name": "#%%\n"
    }
   }
  },
  {
   "cell_type": "code",
   "execution_count": null,
   "source": [
    "# distance calculated column\n",
    "env_position_xs = [col for col in df if col == \"env_position_x\"] \n",
    "env_position_ys = [col for col in df if col == \"env_position_y\"] \n",
    "env_position_zs = [col for col in df if col == \"env_position_z\"] \n",
    "\n",
    "df[\"distance_xz\"] = np.sqrt(np.abs(df[env_position_xs].sum(axis=1)**2) + np.abs(df[env_position_zs].sum(axis=1)**2))\n",
    "\n",
    "df[\"body_orientation_phi\"] = df[\"body_orientation_phi\"] * math.pi * 2\n",
    "df[\"body_orientation_theta\"] = df[\"body_orientation_theta\"] * math.pi\n",
    "df[\"head_orientation_phi\"] = df[\"head_orientation_phi\"] * math.pi * 2\n",
    "df[\"head_orientation_theta\"] = df[\"head_orientation_theta\"] * math.pi\n"
   ],
   "outputs": [],
   "metadata": {}
  },
  {
   "cell_type": "code",
   "execution_count": null,
   "source": [
    "df.head(5)"
   ],
   "outputs": [],
   "metadata": {
    "pycharm": {
     "name": "#%%\n"
    }
   }
  },
  {
   "cell_type": "code",
   "execution_count": null,
   "source": [
    "df.describe().apply(lambda s: s.apply(lambda x: format(x, 'g')))\n"
   ],
   "outputs": [],
   "metadata": {
    "pycharm": {
     "name": "#%%\n"
    }
   }
  },
  {
   "cell_type": "code",
   "execution_count": null,
   "source": [
    "df_description = df.describe()\n",
    "num_3d_models = 1\n",
    "num_animations = 1\n",
    "print(\"General Report\")\n",
    "print(f\"Number of frames: {len(df)}\")\n",
    "print(f\"FPS: 30\")\n",
    "print(f\"Resolution: 1920x1080\")\n",
    "print(f\"Number of 3D models: {num_3d_models}\")\n",
    "print(f\"Number of animations {num_animations}\")\n",
    "print(\"Data & Mean & Std & Min & Max \\\\\\\\\")\n",
    "print(f\"Skeleton 2D Diameter & ${df_description['skeleton2d_size']['mean']:.2f}px$ & ${df_description['skeleton2d_size']['std']:.2f}px$ & ${df_description['skeleton2d_size']['min']:.2f}px$ & ${df_description['skeleton2d_size']['max']:.2f}px$ \\\\\\\\\")\n",
    "print(f\"Skeleton 3D Diameter & ${df_description['skeleton3d_size']['mean']:.2f}mm$ & ${df_description['skeleton3d_size']['std']:.2f}mm$ & ${df_description['skeleton3d_size']['min']:.2f}mm$ & ${df_description['skeleton3d_size']['max']:.2f}mm$ \\\\\\\\\")\n",
    "print(f\"Camera Distance (XZ) & ${df_description['distance_xz']['mean']:.2f}mm$ & ${df_description['distance_xz']['std']:.2f}mm$ & ${df_description['distance_xz']['min']:.2f}mm$ & ${df_description['distance_xz']['max']:.2f}mm$ \\\\\\\\\")"
   ],
   "outputs": [],
   "metadata": {}
  },
  {
   "cell_type": "code",
   "execution_count": null,
   "source": [
    "fig = plt.figure()\n",
    "body_phi_deg = df['body_orientation_phi'] * (180 / math.pi)\n",
    "body_phi_deg.hist(bins=50)\n",
    "xmin, xmax, ymin, ymax = plt.axis()\n",
    "tikzplotlib.save(\"/home/dennis/Downloads/circle_body_orientation_phi.tex\", extra_axis_parameters={\n",
    "  'width=0.7\\\\textwidth',\n",
    "  'font=\\\\footnotesize',\n",
    "  'title={Distribution of body $\\\\theta$ orientations}',\n",
    "  'xlabel={degrees ($°$)}',\n",
    "  'ylabel={Number of samples}',\n",
    "  'enlarge x limits=0.001',\n",
    "  'enlarge y limits=0.001',\n",
    "  'xmin=0',\n",
    "  'xmax=360',\n",
    "})"
   ],
   "outputs": [],
   "metadata": {}
  },
  {
   "cell_type": "code",
   "execution_count": null,
   "source": [
    "fig = plt.figure()\n",
    "head_phi_deg = df['head_orientation_phi'] * (180 / math.pi)\n",
    "head_phi_deg.hist(bins=50)\n",
    "xmin, xmax, ymin, ymax = plt.axis()\n",
    "tikzplotlib.save(\"/home/dennis/Downloads/circle_head_orientation_phi.tex\", extra_axis_parameters={\n",
    "  'width=0.7\\\\textwidth',\n",
    "  'font=\\\\footnotesize',\n",
    "  'title={Distribution of body $\\\\theta$ orientations}',\n",
    "  'xlabel={degrees ($°$)}',\n",
    "  'ylabel={Number of samples}',\n",
    "  'enlarge x limits=0.001',\n",
    "  'enlarge y limits=0.001',\n",
    "  'xmin=0',\n",
    "  'xmax=360',\n",
    "})"
   ],
   "outputs": [],
   "metadata": {}
  },
  {
   "cell_type": "code",
   "execution_count": null,
   "source": [
    "fig = plt.figure()\n",
    "df['skeleton2d_width'].hist(bins=50)"
   ],
   "outputs": [],
   "metadata": {}
  },
  {
   "cell_type": "code",
   "execution_count": null,
   "source": [
    "fig = plt.figure()\n",
    "df['skeleton2d_height'].hist(bins=50)"
   ],
   "outputs": [],
   "metadata": {
    "pycharm": {
     "name": "#%%\n"
    },
    "scrolled": false
   }
  },
  {
   "cell_type": "code",
   "execution_count": null,
   "source": [
    "fig = plt.figure()\n",
    "df['skeleton2d_size'].hist(bins=50)"
   ],
   "outputs": [],
   "metadata": {}
  },
  {
   "cell_type": "code",
   "execution_count": null,
   "source": [
    "fig = plt.figure()\n",
    "df['skeleton3d_width'].hist(bins=50)"
   ],
   "outputs": [],
   "metadata": {
    "pycharm": {
     "name": "#%%\n"
    }
   }
  },
  {
   "cell_type": "code",
   "execution_count": null,
   "source": [
    "fig = plt.figure()\n",
    "df['skeleton3d_height'].hist(bins=50)"
   ],
   "outputs": [],
   "metadata": {
    "pycharm": {
     "name": "#%%\n"
    }
   }
  },
  {
   "cell_type": "code",
   "execution_count": null,
   "source": [
    "fig = plt.figure()\n",
    "df['skeleton3d_depth'].hist(bins=50)"
   ],
   "outputs": [],
   "metadata": {
    "pycharm": {
     "name": "#%%\n"
    }
   }
  },
  {
   "cell_type": "code",
   "execution_count": null,
   "source": [
    "fig = plt.figure()\n",
    "df['skeleton3d_size'].hist(bins=50)"
   ],
   "outputs": [],
   "metadata": {}
  },
  {
   "cell_type": "code",
   "execution_count": null,
   "source": [
    "fig = plt.figure()\n",
    "df['body_orientation_phi'].hist(bins=50)"
   ],
   "outputs": [],
   "metadata": {}
  },
  {
   "cell_type": "code",
   "execution_count": null,
   "source": [
    "fig = plt.figure()\n",
    "df['head_orientation_theta'].hist(bins=50)"
   ],
   "outputs": [],
   "metadata": {}
  },
  {
   "cell_type": "code",
   "execution_count": null,
   "source": [
    "fig = plt.figure()\n",
    "df['head_orientation_phi'].hist(bins=50)"
   ],
   "outputs": [],
   "metadata": {}
  },
  {
   "cell_type": "code",
   "execution_count": null,
   "source": [],
   "outputs": [],
   "metadata": {}
  }
 ],
 "metadata": {
  "interpreter": {
   "hash": "bf491277edac76033ce6ce8ea4226b9b4057f0df010a0d274c01dafd8b4e2caa"
  },
  "kernelspec": {
   "name": "python3",
   "display_name": "Python 3.9.6 64-bit ('pedrec')"
  },
  "language_info": {
   "codemirror_mode": {
    "name": "ipython",
    "version": 3
   },
   "file_extension": ".py",
   "mimetype": "text/x-python",
   "name": "python",
   "nbconvert_exporter": "python",
   "pygments_lexer": "ipython3",
   "version": "3.9.6"
  }
 },
 "nbformat": 4,
 "nbformat_minor": 4
}